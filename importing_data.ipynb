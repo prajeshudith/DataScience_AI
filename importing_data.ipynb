{
 "cells": [
  {
   "cell_type": "markdown",
   "metadata": {},
   "source": [
    "# Reading CSV files\n",
    "### Using the csv Module\n",
    "The csv module is part of Python's standard library and provides functionality to read and write CSV files.\n",
    "\n",
    "Basic Example:"
   ]
  },
  {
   "cell_type": "code",
   "execution_count": 2,
   "metadata": {},
   "outputs": [
    {
     "name": "stdout",
     "output_type": "stream",
     "text": [
      "['User ID', 'User Name', 'Age', 'Location', 'Registration Date', 'Phone', 'Email', 'Favorite Meal', 'Total Orders']\n",
      "['U001', 'Alice Johnson', '28', 'New York', '2023-01-15', '123-456-7890', 'alice@email.com', 'Dinner', '12']\n",
      "['U002', 'Bob Smith', '35', 'Los Angeles', '2023-02-20', '987-654-3210', 'bob@email.com', 'Lunch', '8']\n",
      "['U003', 'Charlie Lee', '42', 'Chicago', '2023-03-10', '555-123-4567', 'charlie@email.com', 'Breakfast', '15']\n",
      "['U004', 'David Brown', '27', 'San Francisco', '2023-04-05', '444-333-2222', 'david@email.com', 'Dinner', '10']\n",
      "['U005', 'Emma White', '30', 'Seattle', '2023-05-22', '777-888-9999', 'emma@email.com', 'Lunch', '9']\n",
      "['U006', 'Frank Green', '25', 'Austin', '2023-06-15', '888-777-6666', 'frank@email.com', 'Dinner', '7']\n",
      "['U007', 'Grace King', '38', 'Boston', '2023-07-02', '999-888-7777', 'grace@email.com', 'Breakfast', '14']\n",
      "['U008', 'Henry Lee', '31', 'Miami', '2023-08-11', '101-202-3030', 'henry@email.com', 'Dinner', '5']\n",
      "['U009', 'Irene Moore', '33', 'Dallas', '2023-09-01', '202-303-4040', 'irene@email.com', 'Lunch', '6']\n",
      "['U010', 'Jack White', '29', 'Phoenix', '2023-10-10', '303-404-5050', 'jack@email.com', 'Dinner', '8']\n"
     ]
    }
   ],
   "source": [
    "import csv\n",
    "\n",
    "# Open the CSV file\n",
    "with open('data/data.csv', mode='r') as file:\n",
    "    reader = csv.reader(file)\n",
    "    # Iterate through rows\n",
    "    for row in reader:\n",
    "        print(row)"
   ]
  },
  {
   "cell_type": "markdown",
   "metadata": {},
   "source": [
    "##### Features of csv.reader:\n",
    "- Reads rows as lists.\n",
    "- Handles basic CSV formats but requires manual handling for data types.\n",
    "##### Reading with a Header:\n",
    "If your CSV file has a header row, you can use csv.DictReader to read rows as dictionaries."
   ]
  },
  {
   "cell_type": "code",
   "execution_count": 4,
   "metadata": {},
   "outputs": [
    {
     "name": "stdout",
     "output_type": "stream",
     "text": [
      "{'User ID': 'U001', 'User Name': 'Alice Johnson', 'Age': '28', 'Location': 'New York', 'Registration Date': '2023-01-15', 'Phone': '123-456-7890', 'Email': 'alice@email.com', 'Favorite Meal': 'Dinner', 'Total Orders': '12'}\n",
      "{'User ID': 'U002', 'User Name': 'Bob Smith', 'Age': '35', 'Location': 'Los Angeles', 'Registration Date': '2023-02-20', 'Phone': '987-654-3210', 'Email': 'bob@email.com', 'Favorite Meal': 'Lunch', 'Total Orders': '8'}\n",
      "{'User ID': 'U003', 'User Name': 'Charlie Lee', 'Age': '42', 'Location': 'Chicago', 'Registration Date': '2023-03-10', 'Phone': '555-123-4567', 'Email': 'charlie@email.com', 'Favorite Meal': 'Breakfast', 'Total Orders': '15'}\n",
      "{'User ID': 'U004', 'User Name': 'David Brown', 'Age': '27', 'Location': 'San Francisco', 'Registration Date': '2023-04-05', 'Phone': '444-333-2222', 'Email': 'david@email.com', 'Favorite Meal': 'Dinner', 'Total Orders': '10'}\n",
      "{'User ID': 'U005', 'User Name': 'Emma White', 'Age': '30', 'Location': 'Seattle', 'Registration Date': '2023-05-22', 'Phone': '777-888-9999', 'Email': 'emma@email.com', 'Favorite Meal': 'Lunch', 'Total Orders': '9'}\n",
      "{'User ID': 'U006', 'User Name': 'Frank Green', 'Age': '25', 'Location': 'Austin', 'Registration Date': '2023-06-15', 'Phone': '888-777-6666', 'Email': 'frank@email.com', 'Favorite Meal': 'Dinner', 'Total Orders': '7'}\n",
      "{'User ID': 'U007', 'User Name': 'Grace King', 'Age': '38', 'Location': 'Boston', 'Registration Date': '2023-07-02', 'Phone': '999-888-7777', 'Email': 'grace@email.com', 'Favorite Meal': 'Breakfast', 'Total Orders': '14'}\n",
      "{'User ID': 'U008', 'User Name': 'Henry Lee', 'Age': '31', 'Location': 'Miami', 'Registration Date': '2023-08-11', 'Phone': '101-202-3030', 'Email': 'henry@email.com', 'Favorite Meal': 'Dinner', 'Total Orders': '5'}\n",
      "{'User ID': 'U009', 'User Name': 'Irene Moore', 'Age': '33', 'Location': 'Dallas', 'Registration Date': '2023-09-01', 'Phone': '202-303-4040', 'Email': 'irene@email.com', 'Favorite Meal': 'Lunch', 'Total Orders': '6'}\n",
      "{'User ID': 'U010', 'User Name': 'Jack White', 'Age': '29', 'Location': 'Phoenix', 'Registration Date': '2023-10-10', 'Phone': '303-404-5050', 'Email': 'jack@email.com', 'Favorite Meal': 'Dinner', 'Total Orders': '8'}\n"
     ]
    }
   ],
   "source": [
    "import csv\n",
    "\n",
    "# Open the CSV file\n",
    "with open('data/data.csv', mode='r') as file:\n",
    "    reader = csv.DictReader(file)\n",
    "    # Iterate through rows\n",
    "    for row in reader:\n",
    "        print(row)  # Row is a dictionary with column headers as keys"
   ]
  },
  {
   "cell_type": "markdown",
   "metadata": {},
   "source": [
    "### Using the pandas Library\n",
    "pandas is a powerful library for data manipulation and analysis. It provides the read_csv() function to read CSV files into a DataFrame.\n",
    "\n",
    "##### Features of pandas.read_csv:\n",
    "- Automatically handles headers and data types.\n",
    "- Allows filtering, slicing, and data manipulation.\n",
    "- Handles missing values and large datasets efficiently.\n",
    "\n",
    "##### Additional Options:\n",
    "- Specify Delimiter: delimiter=',' (for non-comma-separated values, e.g., tab-delimited files).\n",
    "- Skip Rows: skiprows=3 (skip the first 3 rows).\n",
    "- Select Columns: usecols=['col1', 'col2'].\n",
    "- Handle Missing Data: na_values=['NA', '?'].\n",
    "\n",
    "Basic Example:"
   ]
  },
  {
   "cell_type": "code",
   "execution_count": 6,
   "metadata": {},
   "outputs": [
    {
     "name": "stdout",
     "output_type": "stream",
     "text": [
      "  User ID      User Name  Age       Location Registration Date         Phone  \\\n",
      "0    U001  Alice Johnson   28       New York        2023-01-15  123-456-7890   \n",
      "1    U002      Bob Smith   35    Los Angeles        2023-02-20  987-654-3210   \n",
      "2    U003    Charlie Lee   42        Chicago        2023-03-10  555-123-4567   \n",
      "3    U004    David Brown   27  San Francisco        2023-04-05  444-333-2222   \n",
      "4    U005     Emma White   30        Seattle        2023-05-22  777-888-9999   \n",
      "5    U006    Frank Green   25         Austin        2023-06-15  888-777-6666   \n",
      "6    U007     Grace King   38         Boston        2023-07-02  999-888-7777   \n",
      "7    U008      Henry Lee   31          Miami        2023-08-11  101-202-3030   \n",
      "8    U009    Irene Moore   33         Dallas        2023-09-01  202-303-4040   \n",
      "9    U010     Jack White   29        Phoenix        2023-10-10  303-404-5050   \n",
      "\n",
      "               Email Favorite Meal  Total Orders  \n",
      "0    alice@email.com        Dinner            12  \n",
      "1      bob@email.com         Lunch             8  \n",
      "2  charlie@email.com     Breakfast            15  \n",
      "3    david@email.com        Dinner            10  \n",
      "4     emma@email.com         Lunch             9  \n",
      "5    frank@email.com        Dinner             7  \n",
      "6    grace@email.com     Breakfast            14  \n",
      "7    henry@email.com        Dinner             5  \n",
      "8    irene@email.com         Lunch             6  \n",
      "9     jack@email.com        Dinner             8  \n"
     ]
    }
   ],
   "source": [
    "import pandas as pd\n",
    "\n",
    "# Read the CSV file\n",
    "df = pd.read_csv('data/data.csv')\n",
    "\n",
    "# Display the DataFrame\n",
    "print(df)"
   ]
  },
  {
   "cell_type": "markdown",
   "metadata": {},
   "source": [
    "### Other Libraries\n",
    "- NumPy: For numerical data in CSV files\n",
    "\n",
    "`import numpy as np`\n",
    "\n",
    "`data = np.loadtxt('data/data.csv', delimiter=',', skiprows=1)`\n",
    "\n",
    "`print(data)`\n",
    "\n",
    "- Dask: For handling very large CSV files.\n",
    "\n",
    "`import dask.dataframe as dd`\n",
    "\n",
    "`df = dd.read_csv('large_data.csv')`\n",
    "\n",
    "`print(df.head())`\n",
    "\n",
    "### Best Practices\n",
    "1. Error Handling: Use try-except blocks to handle file errors"
   ]
  },
  {
   "cell_type": "code",
   "execution_count": 9,
   "metadata": {},
   "outputs": [
    {
     "name": "stdout",
     "output_type": "stream",
     "text": [
      "File not found.\n"
     ]
    }
   ],
   "source": [
    "try:\n",
    "    df = pd.read_csv('data.csv')\n",
    "except FileNotFoundError:\n",
    "    print(\"File not found.\")"
   ]
  },
  {
   "cell_type": "markdown",
   "metadata": {},
   "source": [
    "2. Data Validation: Check the structure and content of the CSV file before processing.\n",
    "3. Performance: Use libraries like pandas or dask for large files."
   ]
  },
  {
   "cell_type": "markdown",
   "metadata": {},
   "source": [
    "# Saving in Python data\n",
    "1. Saving Text Data\n",
    "\n",
    "You can save plain text data to files using Python's built-in file handling.\n",
    "\n",
    "Modes:\n",
    "- \"w\": Write (overwrites the file).\n",
    "- \"a\": Append (adds to the existing file).\n",
    "- \"r\": Read.\n",
    "\n",
    "\n",
    "Example:"
   ]
  },
  {
   "cell_type": "code",
   "execution_count": 10,
   "metadata": {},
   "outputs": [],
   "source": [
    "data = \"Hello, this is a text file.\"\n",
    "with open(\"example.txt\", \"w\") as file:\n",
    "    file.write(data)"
   ]
  },
  {
   "cell_type": "markdown",
   "metadata": {},
   "source": [
    "2. Saving Structured Data\n",
    "\n",
    "* CSV (Comma-Separated Values): Useful for tabular data.\n",
    "\n",
    "Use the csv module.\n"
   ]
  },
  {
   "cell_type": "code",
   "execution_count": 20,
   "metadata": {},
   "outputs": [],
   "source": [
    "import csv\n",
    "\n",
    "data = [[\"Name\", \"Age\"], [\"Alice\", 30], [\"Bob\", 25]]\n",
    "with open(\"data.csv\", \"w\", newline=\"\") as file:\n",
    "    writer = csv.writer(file)\n",
    "    writer.writerows(data)"
   ]
  },
  {
   "cell_type": "markdown",
   "metadata": {},
   "source": [
    "* JSON (JavaScript Object Notation): Suitable for hierarchical or nested data.\n",
    "\n",
    "Use the json module."
   ]
  },
  {
   "cell_type": "code",
   "execution_count": 18,
   "metadata": {},
   "outputs": [],
   "source": [
    "import json\n",
    "\n",
    "data = {\"name\": \"Alice\", \"age\": 30, \"languages\": [\"English\", \"Spanish\"]}\n",
    "with open(\"data.json\", \"w\") as file:\n",
    "    json.dump(data, file)"
   ]
  },
  {
   "cell_type": "markdown",
   "metadata": {},
   "source": [
    "### Saving Binary Data\n",
    "- For non-text files like images, audio, or serialized Python objects, use binary mode (\"wb\").\n",
    "- Pickle: Saves Python objects"
   ]
  },
  {
   "cell_type": "code",
   "execution_count": 16,
   "metadata": {},
   "outputs": [],
   "source": [
    "import pickle\n",
    "\n",
    "data = {\"key\": \"value\", \"number\": 42}\n",
    "with open(\"data.pkl\", \"wb\") as file:\n",
    "    pickle.dump(data, file)"
   ]
  },
  {
   "cell_type": "markdown",
   "metadata": {},
   "source": [
    "### Saving Data in Databases\n",
    "- SQLite (built-in database):\n",
    "\n",
    "Use the sqlite3 module to save and query structured data.\n"
   ]
  },
  {
   "cell_type": "code",
   "execution_count": 25,
   "metadata": {},
   "outputs": [],
   "source": [
    "import sqlite3\n",
    "\n",
    "connection = sqlite3.connect(\"example.db\")\n",
    "cursor = connection.cursor()\n",
    "cursor.execute(\"CREATE TABLE IF NOT EXISTS users (id INTEGER, name TEXT)\")\n",
    "cursor.execute(\"INSERT INTO users (id, name) VALUES (?, ?)\", (1, \"Alice\"))\n",
    "connection.commit()\n",
    "connection.close()"
   ]
  },
  {
   "cell_type": "markdown",
   "metadata": {},
   "source": [
    "### Saving Data with Libraries\n",
    "Pandas: For DataFrame manipulation and storage"
   ]
  },
  {
   "cell_type": "code",
   "execution_count": 15,
   "metadata": {},
   "outputs": [],
   "source": [
    "import pandas as pd\n",
    "\n",
    "data = pd.DataFrame({\"Name\": [\"Alice\", \"Bob\"], \"Age\": [30, 25]})\n",
    "data.to_csv(\"data.csv\", index=False)\n",
    "data.to_excel(\"data.xlsx\", index=False)"
   ]
  },
  {
   "cell_type": "markdown",
   "metadata": {},
   "source": [
    "### Saving Large Data\n",
    "HDF5: For large datasets (e.g., h5py or pandas with HDF5 format).\n",
    "Parquet: Efficient for big data (e.g., with pyarrow or fastparquet).\n",
    "\n",
    "## Choosing the Right Method\n",
    "- Plain text: Logs, simple configurations.\n",
    "- CSV/Excel: Tabular data.\n",
    "- JSON: Nested or hierarchical data.\n",
    "- Pickle: Python-specific objects (not human-readable).\n",
    "- Database: When query and persistence are important.\n",
    "- Binary formats: For performance and space efficiency."
   ]
  },
  {
   "cell_type": "markdown",
   "metadata": {},
   "source": [
    "# Loading Python data objects \n",
    "Loading Python data objects refers to the process of retrieving data that was previously saved or serialized into a file or other storage medium. This process is essential in scenarios where you need to work with data across multiple sessions or share data between systems.\n",
    "\n",
    "### Tips for Loading Data\n",
    "- File Format: Ensure the format of the saved file matches the method used to load it.\n",
    "- Error Handling: Use try-except blocks to handle errors during loading (e.g., file not found or invalid format).\n",
    "- Security: Avoid loading untrusted data with modules like pickle, as it may execute malicious code.\n",
    "\n",
    "### Common Ways to Load Python Data Objects\n",
    "1. Using pickle\n",
    "\n",
    "The pickle module is used to serialize and deserialize Python objects."
   ]
  },
  {
   "cell_type": "code",
   "execution_count": 17,
   "metadata": {},
   "outputs": [
    {
     "name": "stdout",
     "output_type": "stream",
     "text": [
      "{'key': 'value', 'number': 42}\n"
     ]
    }
   ],
   "source": [
    "with open(\"data.pkl\", \"rb\") as file:\n",
    "    loaded_data = pickle.load(file)\n",
    "print(loaded_data)"
   ]
  },
  {
   "cell_type": "markdown",
   "metadata": {},
   "source": [
    "2. Using json\n",
    "\n",
    "The json module is used to work with JSON data, which is human-readable and language-independent."
   ]
  },
  {
   "cell_type": "code",
   "execution_count": 19,
   "metadata": {},
   "outputs": [
    {
     "name": "stdout",
     "output_type": "stream",
     "text": [
      "{'name': 'Alice', 'age': 30, 'languages': ['English', 'Spanish']}\n"
     ]
    }
   ],
   "source": [
    "with open(\"data.json\", \"r\") as file:\n",
    "    loaded_data = json.load(file)\n",
    "print(loaded_data)"
   ]
  },
  {
   "cell_type": "markdown",
   "metadata": {},
   "source": [
    "3. Using csv\n",
    "\n",
    "The csv module is used to handle tabular data in CSV (Comma-Separated Values) format."
   ]
  },
  {
   "cell_type": "code",
   "execution_count": 21,
   "metadata": {},
   "outputs": [
    {
     "name": "stdout",
     "output_type": "stream",
     "text": [
      "['Name', 'Age']\n",
      "['Alice', '30']\n",
      "['Bob', '25']\n"
     ]
    }
   ],
   "source": [
    "with open(\"data.csv\", \"r\") as file:\n",
    "    reader = csv.reader(file)\n",
    "    for row in reader:\n",
    "        print(row)"
   ]
  },
  {
   "cell_type": "markdown",
   "metadata": {},
   "source": [
    "4. Using pandas for DataFrames\n",
    "\n",
    "pandas is a powerful library for handling tabular data."
   ]
  },
  {
   "cell_type": "code",
   "execution_count": 22,
   "metadata": {},
   "outputs": [
    {
     "name": "stdout",
     "output_type": "stream",
     "text": [
      "    Name  Age\n",
      "0  Alice   30\n",
      "1    Bob   25\n"
     ]
    }
   ],
   "source": [
    "data = pd.read_csv(\"data.csv\")\n",
    "print(data)"
   ]
  },
  {
   "cell_type": "markdown",
   "metadata": {},
   "source": [
    "6. Using Databases\n",
    "\n",
    "Python can interface with databases to store and retrieve structured data using libraries like sqlite3, SQLAlchemy, or others."
   ]
  },
  {
   "cell_type": "code",
   "execution_count": 28,
   "metadata": {},
   "outputs": [
    {
     "name": "stdout",
     "output_type": "stream",
     "text": [
      "[(1, 'Alice')]\n"
     ]
    }
   ],
   "source": [
    "# Create and insert data\n",
    "connection = sqlite3.connect(\"example.db\")\n",
    "cursor = connection.cursor()\n",
    "\n",
    "# Load data\n",
    "cursor.execute(\"SELECT * FROM users\")\n",
    "print(cursor.fetchall())\n",
    "\n",
    "connection.close()"
   ]
  }
 ],
 "metadata": {
  "kernelspec": {
   "display_name": "venv",
   "language": "python",
   "name": "python3"
  },
  "language_info": {
   "codemirror_mode": {
    "name": "ipython",
    "version": 3
   },
   "file_extension": ".py",
   "mimetype": "text/x-python",
   "name": "python",
   "nbconvert_exporter": "python",
   "pygments_lexer": "ipython3",
   "version": "3.12.0"
  }
 },
 "nbformat": 4,
 "nbformat_minor": 2
}
