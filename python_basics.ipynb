{
 "cells": [
  {
   "cell_type": "markdown",
   "metadata": {},
   "source": [
    "# Lists in Python\n",
    "\n",
    "Ordered collection of items, can contain different data types.\n",
    "\n",
    "Syntax: `my_list = [item1, item2, item3]`\n",
    "\n",
    "Features:\n",
    "\n",
    "**Ordered**: Maintains insertion order.\n",
    "\n",
    "**Mutable**: Elements can be changed.\n",
    "\n",
    "**Heterogeneous**: Supports multiple data types.\n"
   ]
  },
  {
   "cell_type": "code",
   "execution_count": 1,
   "metadata": {},
   "outputs": [],
   "source": [
    "my_list = [0, 1, 0, -1]"
   ]
  },
  {
   "cell_type": "markdown",
   "metadata": {},
   "source": [
    "#### Common Operations\n",
    "**Access**: `my_list[0]` (first element).\n",
    "\n",
    "**Add**: `append()`, `extend()`\n",
    "\n",
    "**Remove**: `remove()`, `pop()`\n",
    "\n",
    "**Methods**:\n",
    "`len()`: Length of list.\n",
    "`sort()`, `reverse()`: Modify list order.\n",
    "`index()`, `count()`: Element lookup."
   ]
  },
  {
   "cell_type": "code",
   "execution_count": 2,
   "metadata": {},
   "outputs": [
    {
     "data": {
      "text/plain": [
       "0"
      ]
     },
     "execution_count": 2,
     "metadata": {},
     "output_type": "execute_result"
    }
   ],
   "source": [
    "my_list[0]"
   ]
  },
  {
   "cell_type": "code",
   "execution_count": 4,
   "metadata": {},
   "outputs": [
    {
     "data": {
      "text/plain": [
       "[0, 1, 0, -1, 2, 2]"
      ]
     },
     "execution_count": 4,
     "metadata": {},
     "output_type": "execute_result"
    }
   ],
   "source": [
    "my_list.append(2)\n",
    "my_list"
   ]
  },
  {
   "cell_type": "code",
   "execution_count": 5,
   "metadata": {},
   "outputs": [
    {
     "data": {
      "text/plain": [
       "[0, 1, 0, -1, 2, 2, 1, 2]"
      ]
     },
     "execution_count": 5,
     "metadata": {},
     "output_type": "execute_result"
    }
   ],
   "source": [
    "my_list.extend([1,2])\n",
    "my_list"
   ]
  },
  {
   "cell_type": "code",
   "execution_count": 7,
   "metadata": {},
   "outputs": [
    {
     "data": {
      "text/plain": [
       "8"
      ]
     },
     "execution_count": 7,
     "metadata": {},
     "output_type": "execute_result"
    }
   ],
   "source": [
    "len(my_list)"
   ]
  },
  {
   "cell_type": "code",
   "execution_count": 8,
   "metadata": {},
   "outputs": [
    {
     "data": {
      "text/plain": [
       "[-1, 0, 0, 1, 1, 2, 2, 2]"
      ]
     },
     "execution_count": 8,
     "metadata": {},
     "output_type": "execute_result"
    }
   ],
   "source": [
    "my_list.sort()\n",
    "my_list"
   ]
  },
  {
   "cell_type": "code",
   "execution_count": 9,
   "metadata": {},
   "outputs": [
    {
     "data": {
      "text/plain": [
       "[2, 2, 2, 1, 1, 0, 0, -1]"
      ]
     },
     "execution_count": 9,
     "metadata": {},
     "output_type": "execute_result"
    }
   ],
   "source": [
    "my_list.reverse()\n",
    "my_list"
   ]
  },
  {
   "cell_type": "code",
   "execution_count": 10,
   "metadata": {},
   "outputs": [
    {
     "data": {
      "text/plain": [
       "7"
      ]
     },
     "execution_count": 10,
     "metadata": {},
     "output_type": "execute_result"
    }
   ],
   "source": [
    "my_list.index(-1)"
   ]
  },
  {
   "cell_type": "code",
   "execution_count": 11,
   "metadata": {},
   "outputs": [
    {
     "data": {
      "text/plain": [
       "1"
      ]
     },
     "execution_count": 11,
     "metadata": {},
     "output_type": "execute_result"
    }
   ],
   "source": [
    "my_list.count(-1)"
   ]
  },
  {
   "cell_type": "markdown",
   "metadata": {},
   "source": [
    "#### Advanced Features"
   ]
  },
  {
   "cell_type": "code",
   "execution_count": 12,
   "metadata": {},
   "outputs": [
    {
     "data": {
      "text/plain": [
       "[0, 1, 4, 9, 16]"
      ]
     },
     "execution_count": 12,
     "metadata": {},
     "output_type": "execute_result"
    }
   ],
   "source": [
    "# [expression for item in iterable if condition]\n",
    "[x**2 for x in range(5)]"
   ]
  },
  {
   "cell_type": "code",
   "execution_count": 14,
   "metadata": {},
   "outputs": [
    {
     "name": "stdout",
     "output_type": "stream",
     "text": [
      "2\n"
     ]
    }
   ],
   "source": [
    "matrix = [[1, 2], [3, 4]]\n",
    "print(matrix[0][1])  # Output: 2"
   ]
  },
  {
   "cell_type": "markdown",
   "metadata": {},
   "source": [
    "# Slicing\n",
    "\n",
    "A technique to extract parts of sequences (e.g., lists, strings, tuples).\n",
    "\n",
    "**Syntax**:`sequence[start:stop:step]`\n",
    "\n",
    "1. **start**: Starting index (inclusive).\n",
    "\n",
    "2. **stop**: Ending index (exclusive).\n",
    "\n",
    "3. **step**: Step size (optional).\n",
    "\n",
    "### Applications of Slicing\n",
    "1. Extracting substrings or sublists.\n",
    "2. Reversing sequences.\n",
    "3. Skipping elements with steps.\n",
    "4. Modifying parts of sequences."
   ]
  },
  {
   "cell_type": "markdown",
   "metadata": {},
   "source": [
    "#### Basic Slicing"
   ]
  },
  {
   "cell_type": "code",
   "execution_count": 15,
   "metadata": {},
   "outputs": [
    {
     "data": {
      "text/plain": [
       "[1, 2, 3]"
      ]
     },
     "execution_count": 15,
     "metadata": {},
     "output_type": "execute_result"
    }
   ],
   "source": [
    "my_list = [0, 1, 2, 3, 4]\n",
    "my_list[1:4]  # Output: [1, 2, 3]"
   ]
  },
  {
   "cell_type": "markdown",
   "metadata": {},
   "source": [
    "#### Omitting Indices"
   ]
  },
  {
   "cell_type": "code",
   "execution_count": 16,
   "metadata": {},
   "outputs": [
    {
     "data": {
      "text/plain": [
       "[0, 1, 2]"
      ]
     },
     "execution_count": 16,
     "metadata": {},
     "output_type": "execute_result"
    }
   ],
   "source": [
    "my_list[:3]  # First three elements"
   ]
  },
  {
   "cell_type": "code",
   "execution_count": 17,
   "metadata": {},
   "outputs": [
    {
     "data": {
      "text/plain": [
       "[2, 3, 4]"
      ]
     },
     "execution_count": 17,
     "metadata": {},
     "output_type": "execute_result"
    }
   ],
   "source": [
    "my_list[2:]  # From index 2 to end"
   ]
  },
  {
   "cell_type": "markdown",
   "metadata": {},
   "source": [
    "#### Negative Indices"
   ]
  },
  {
   "cell_type": "code",
   "execution_count": 18,
   "metadata": {},
   "outputs": [
    {
     "data": {
      "text/plain": [
       "[2, 3, 4]"
      ]
     },
     "execution_count": 18,
     "metadata": {},
     "output_type": "execute_result"
    }
   ],
   "source": [
    "my_list[-3:]  # Last three elements"
   ]
  },
  {
   "cell_type": "markdown",
   "metadata": {},
   "source": [
    "### Advanced Slicing\n",
    "\n",
    "#### Step Size"
   ]
  },
  {
   "cell_type": "code",
   "execution_count": 19,
   "metadata": {},
   "outputs": [
    {
     "data": {
      "text/plain": [
       "[0, 2, 4]"
      ]
     },
     "execution_count": 19,
     "metadata": {},
     "output_type": "execute_result"
    }
   ],
   "source": [
    "my_list[::2]  # Every second element"
   ]
  },
  {
   "cell_type": "code",
   "execution_count": 20,
   "metadata": {},
   "outputs": [
    {
     "data": {
      "text/plain": [
       "[4, 3, 2, 1, 0]"
      ]
     },
     "execution_count": 20,
     "metadata": {},
     "output_type": "execute_result"
    }
   ],
   "source": [
    "my_list[::-1]  # Reverse the sequence"
   ]
  },
  {
   "cell_type": "markdown",
   "metadata": {},
   "source": [
    "#### Modify with Slicing"
   ]
  },
  {
   "cell_type": "code",
   "execution_count": 21,
   "metadata": {},
   "outputs": [],
   "source": [
    "my_list[1:3] = [7, 8]  # Replace elements"
   ]
  },
  {
   "cell_type": "markdown",
   "metadata": {},
   "source": [
    "# IF statements\n",
    "\n",
    "Best Practices:\n",
    "1. Keep conditions simple and readable.\n",
    "2. Use meaningful variable names.\n",
    "3. Avoid deeply nested IFs; use logical operators (and, or).\n"
   ]
  },
  {
   "cell_type": "markdown",
   "metadata": {},
   "source": [
    "#### IF\n",
    "Conditional Statement: Executes a block of code if a condition is True."
   ]
  },
  {
   "cell_type": "code",
   "execution_count": 43,
   "metadata": {},
   "outputs": [],
   "source": [
    "# Syntax\n",
    "# if condition:\n",
    "#     code block"
   ]
  },
  {
   "cell_type": "markdown",
   "metadata": {},
   "source": [
    "#### IF-ELSE and ELIF\n",
    "\n",
    "IF-ELSE: Executes one block if True, another if False."
   ]
  },
  {
   "cell_type": "code",
   "execution_count": 45,
   "metadata": {},
   "outputs": [],
   "source": [
    "# if condition:\n",
    "#     # code block\n",
    "# else:\n",
    "#     # alternate block"
   ]
  },
  {
   "cell_type": "markdown",
   "metadata": {},
   "source": [
    "ELIF: Checks multiple conditions"
   ]
  },
  {
   "cell_type": "code",
   "execution_count": 47,
   "metadata": {},
   "outputs": [],
   "source": [
    "# if condition1:\n",
    "#     # block 1\n",
    "# elif condition2:\n",
    "#     # block 2\n",
    "# else:\n",
    "#     # fallback"
   ]
  },
  {
   "cell_type": "markdown",
   "metadata": {},
   "source": [
    "#### Nested and Inline IF\n",
    "\n",
    "Nested IF: Conditions inside another IF"
   ]
  },
  {
   "cell_type": "code",
   "execution_count": 48,
   "metadata": {},
   "outputs": [],
   "source": [
    "# if condition1:\n",
    "#     if condition2:\n",
    "#         # nested block"
   ]
  },
  {
   "cell_type": "markdown",
   "metadata": {},
   "source": [
    "Inline IF (Ternary Operator)"
   ]
  },
  {
   "cell_type": "code",
   "execution_count": 49,
   "metadata": {},
   "outputs": [],
   "source": [
    "# result = value1 if condition else value2"
   ]
  },
  {
   "cell_type": "code",
   "execution_count": 22,
   "metadata": {},
   "outputs": [
    {
     "name": "stdout",
     "output_type": "stream",
     "text": [
      "Positive\n"
     ]
    }
   ],
   "source": [
    "x = 10\n",
    "if x > 0:\n",
    "    print(\"Positive\")\n",
    "else:\n",
    "    print(\"Non-positive\")"
   ]
  },
  {
   "cell_type": "markdown",
   "metadata": {},
   "source": []
  },
  {
   "cell_type": "markdown",
   "metadata": {},
   "source": [
    "# Loops\n",
    "\n",
    "Loops are used to repeat a block of code multiple times.\n",
    "\n",
    "**Two main types**:\n",
    "1. for loop: Iterates over a sequence (e.g., list, range).\n",
    "2. while loop: Repeats while a condition is True."
   ]
  },
  {
   "cell_type": "markdown",
   "metadata": {},
   "source": [
    "#### FOR Loop\n",
    "\n",
    "Useful for iterating over lists, strings, dictionaries, etc."
   ]
  },
  {
   "cell_type": "code",
   "execution_count": 1,
   "metadata": {},
   "outputs": [
    {
     "name": "stdout",
     "output_type": "stream",
     "text": [
      "[0, 1, 2, 3, 4]\n"
     ]
    }
   ],
   "source": [
    "x = [i for i in range(5)]\n",
    "print(x)  # Output: [0, 1, 2, 3, 4]"
   ]
  },
  {
   "cell_type": "code",
   "execution_count": 51,
   "metadata": {},
   "outputs": [],
   "source": [
    "# for item in sequence:\n",
    "#     # code block"
   ]
  },
  {
   "cell_type": "code",
   "execution_count": 52,
   "metadata": {},
   "outputs": [
    {
     "name": "stdout",
     "output_type": "stream",
     "text": [
      "0\n",
      "1\n",
      "2\n",
      "3\n",
      "4\n"
     ]
    }
   ],
   "source": [
    "for i in range(5):\n",
    "    print(i)  # Outputs: 0, 1, 2, 3, 4"
   ]
  },
  {
   "cell_type": "markdown",
   "metadata": {},
   "source": [
    "#### WHILE Loop\n",
    "\n",
    "Use when the number of iterations is not predetermined."
   ]
  },
  {
   "cell_type": "code",
   "execution_count": 53,
   "metadata": {},
   "outputs": [],
   "source": [
    "# while condition:\n",
    "#     # code block"
   ]
  },
  {
   "cell_type": "code",
   "execution_count": 55,
   "metadata": {},
   "outputs": [
    {
     "name": "stdout",
     "output_type": "stream",
     "text": [
      "0\n",
      "1\n",
      "2\n",
      "3\n",
      "4\n"
     ]
    }
   ],
   "source": [
    "x = 0\n",
    "while x < 5:\n",
    "    print(x)\n",
    "    x += 1"
   ]
  },
  {
   "cell_type": "markdown",
   "metadata": {},
   "source": [
    "#### Controlling Loops"
   ]
  },
  {
   "cell_type": "markdown",
   "metadata": {},
   "source": [
    "break: Exit the loop early"
   ]
  },
  {
   "cell_type": "code",
   "execution_count": 57,
   "metadata": {},
   "outputs": [
    {
     "name": "stdout",
     "output_type": "stream",
     "text": [
      "0\n",
      "1\n",
      "2\n",
      "3\n",
      "4\n",
      "5\n"
     ]
    }
   ],
   "source": [
    "for i in range(10):\n",
    "    print(i)\n",
    "    if i == 5:\n",
    "        break"
   ]
  },
  {
   "cell_type": "markdown",
   "metadata": {},
   "source": [
    "continue: Skip the current iteration"
   ]
  },
  {
   "cell_type": "code",
   "execution_count": 58,
   "metadata": {},
   "outputs": [
    {
     "name": "stdout",
     "output_type": "stream",
     "text": [
      "0\n",
      "1\n",
      "3\n",
      "4\n"
     ]
    }
   ],
   "source": [
    "for i in range(5):\n",
    "    if i == 2:\n",
    "        continue\n",
    "    print(i)"
   ]
  },
  {
   "cell_type": "markdown",
   "metadata": {},
   "source": [
    "else in loops: Executes if the loop completes without a break"
   ]
  },
  {
   "cell_type": "code",
   "execution_count": 59,
   "metadata": {},
   "outputs": [
    {
     "name": "stdout",
     "output_type": "stream",
     "text": [
      "0\n",
      "1\n",
      "2\n",
      "3\n",
      "4\n",
      "Done!\n"
     ]
    }
   ],
   "source": [
    "for i in range(5):\n",
    "    print(i)\n",
    "else:\n",
    "    print(\"Done!\")"
   ]
  },
  {
   "cell_type": "markdown",
   "metadata": {},
   "source": [
    "#### Nested Loops and Best Practices\n",
    "\n",
    "**Best Practices**:\n",
    "* Keep loops simple and readable.\n",
    "* Avoid unnecessary nested loops.\n",
    "* Use comprehensions when possible for better performance.\n",
    "\n",
    "Nested Loops: Loops inside loops.\n"
   ]
  },
  {
   "cell_type": "code",
   "execution_count": 61,
   "metadata": {},
   "outputs": [
    {
     "name": "stdout",
     "output_type": "stream",
     "text": [
      "0 0\n",
      "0 1\n",
      "1 0\n",
      "1 1\n",
      "2 0\n",
      "2 1\n"
     ]
    }
   ],
   "source": [
    "for i in range(3):\n",
    "    for j in range(2):\n",
    "        print(i, j)"
   ]
  },
  {
   "cell_type": "markdown",
   "metadata": {},
   "source": [
    "# Dictionaries\n",
    "\n",
    "Key-Value Pair Collection: Unordered, mutable, indexed by unique keys.\n",
    "\n",
    "##### Key Features\n",
    "* **Keys**: Must be immutable (e.g., strings, numbers, tuples).\n",
    "* **Values**: Can be any data type.\n",
    "* **Unordered**: Maintains insertion order (Python 3.7+).\n",
    "* **Mutable**: Values can be updated.\n",
    "\n",
    "##### Applications of Dictionaries\n",
    "* Representing structured data (e.g., JSON).\n",
    "* Fast lookups using keys.\n",
    "* Counting occurrences (e.g., with collections.Counter)."
   ]
  },
  {
   "cell_type": "code",
   "execution_count": 2,
   "metadata": {},
   "outputs": [
    {
     "data": {
      "text/plain": [
       "{'name': 'Alice', 'age': 25}"
      ]
     },
     "execution_count": 2,
     "metadata": {},
     "output_type": "execute_result"
    }
   ],
   "source": [
    "# Syntax:\n",
    "#   my_dict = {key1: value1, key2: value2}\n",
    "\n",
    "my_dict = {\"name\": \"Alice\", \"age\": 25}\n",
    "my_dict"
   ]
  },
  {
   "cell_type": "code",
   "execution_count": 6,
   "metadata": {},
   "outputs": [],
   "source": [
    "import json\n",
    "with open(\"file.json\", \"w\") as file:\n",
    "    json.dump(my_dict, file)"
   ]
  },
  {
   "cell_type": "markdown",
   "metadata": {},
   "source": [
    "#### Common Operations\n",
    "\n",
    "Access"
   ]
  },
  {
   "cell_type": "code",
   "execution_count": 64,
   "metadata": {},
   "outputs": [
    {
     "data": {
      "text/plain": [
       "'Alice'"
      ]
     },
     "execution_count": 64,
     "metadata": {},
     "output_type": "execute_result"
    }
   ],
   "source": [
    "my_dict[\"name\"]  # Output: Alice"
   ]
  },
  {
   "cell_type": "markdown",
   "metadata": {},
   "source": [
    "Modify/Add"
   ]
  },
  {
   "cell_type": "code",
   "execution_count": 68,
   "metadata": {},
   "outputs": [
    {
     "data": {
      "text/plain": [
       "{'name': 'Alice', 'age': 26, 'city': 'Paris'}"
      ]
     },
     "execution_count": 68,
     "metadata": {},
     "output_type": "execute_result"
    }
   ],
   "source": [
    "my_dict[\"age\"] = 26  # Modify\n",
    "my_dict[\"city\"] = \"Paris\"  # Add\n",
    "my_dict"
   ]
  },
  {
   "cell_type": "markdown",
   "metadata": {},
   "source": [
    "Remove"
   ]
  },
  {
   "cell_type": "code",
   "execution_count": 69,
   "metadata": {},
   "outputs": [
    {
     "data": {
      "text/plain": [
       "'Paris'"
      ]
     },
     "execution_count": 69,
     "metadata": {},
     "output_type": "execute_result"
    }
   ],
   "source": [
    "del my_dict[\"age\"]  # Remove key\n",
    "my_dict.pop(\"city\")  # Remove and return value"
   ]
  },
  {
   "cell_type": "code",
   "execution_count": 70,
   "metadata": {},
   "outputs": [
    {
     "data": {
      "text/plain": [
       "{'name': 'Alice'}"
      ]
     },
     "execution_count": 70,
     "metadata": {},
     "output_type": "execute_result"
    }
   ],
   "source": [
    "my_dict"
   ]
  },
  {
   "cell_type": "markdown",
   "metadata": {},
   "source": [
    "##### Useful Methods\n",
    "* `keys()`: Returns all keys.\n",
    "* `values()`: Returns all values.\n",
    "* `items()`: Returns key-value pairs.\n",
    "* `get(key, default)`: Access value safely.\n",
    "* `update()`: Merge another dictionary."
   ]
  },
  {
   "cell_type": "markdown",
   "metadata": {},
   "source": [
    "#### Iterating Through Dictionaries\n",
    "\n",
    "Keys"
   ]
  },
  {
   "cell_type": "code",
   "execution_count": 71,
   "metadata": {},
   "outputs": [
    {
     "name": "stdout",
     "output_type": "stream",
     "text": [
      "name\n"
     ]
    }
   ],
   "source": [
    "for key in my_dict:\n",
    "    print(key)"
   ]
  },
  {
   "cell_type": "markdown",
   "metadata": {},
   "source": [
    "Key-Value Pairs"
   ]
  },
  {
   "cell_type": "code",
   "execution_count": 72,
   "metadata": {},
   "outputs": [
    {
     "name": "stdout",
     "output_type": "stream",
     "text": [
      "name Alice\n"
     ]
    }
   ],
   "source": [
    "for key, value in my_dict.items():\n",
    "    print(key, value)"
   ]
  },
  {
   "cell_type": "markdown",
   "metadata": {},
   "source": [
    "# Tuples\n",
    "\n",
    "Ordered Collection: Immutable and allows duplicate elements.\n",
    "\n",
    "#### Key Features of Tuples\n",
    "* **Immutable**: Cannot be modified after creation.\n",
    "* **Ordered**: Maintains the sequence of elements.\n",
    "* **Supports Heterogeneous Data**: Can contain multiple data types.\n",
    "* **Allows Duplicates**: Elements can repeat.\n",
    "\n",
    "#### Applications of Tuples\n",
    "* Fixed collections of data (e.g., coordinates, RGB values).\n",
    "* Used as dictionary keys (due to immutability).\n",
    "* Representing records with fixed structure.\n"
   ]
  },
  {
   "cell_type": "code",
   "execution_count": 74,
   "metadata": {},
   "outputs": [],
   "source": [
    "# Syntax:\n",
    "#    my_tuple = (item1, item2, item3)\n",
    "\n",
    "my_tuple = (1, \"hello\", 3.14)"
   ]
  },
  {
   "cell_type": "markdown",
   "metadata": {},
   "source": [
    "#### Common Operations\n",
    "\n",
    "Access Elements"
   ]
  },
  {
   "cell_type": "code",
   "execution_count": 75,
   "metadata": {},
   "outputs": [
    {
     "data": {
      "text/plain": [
       "1"
      ]
     },
     "execution_count": 75,
     "metadata": {},
     "output_type": "execute_result"
    }
   ],
   "source": [
    "my_tuple[0]  # First element"
   ]
  },
  {
   "cell_type": "markdown",
   "metadata": {},
   "source": [
    "Slicing"
   ]
  },
  {
   "cell_type": "code",
   "execution_count": 76,
   "metadata": {},
   "outputs": [
    {
     "data": {
      "text/plain": [
       "('hello', 3.14)"
      ]
     },
     "execution_count": 76,
     "metadata": {},
     "output_type": "execute_result"
    }
   ],
   "source": [
    "my_tuple[1:3]  # Subset of the tuple"
   ]
  },
  {
   "cell_type": "markdown",
   "metadata": {},
   "source": [
    "Length"
   ]
  },
  {
   "cell_type": "code",
   "execution_count": 77,
   "metadata": {},
   "outputs": [
    {
     "data": {
      "text/plain": [
       "3"
      ]
     },
     "execution_count": 77,
     "metadata": {},
     "output_type": "execute_result"
    }
   ],
   "source": [
    "len(my_tuple)  # Number of elements"
   ]
  },
  {
   "cell_type": "markdown",
   "metadata": {},
   "source": [
    "Check Membership"
   ]
  },
  {
   "cell_type": "code",
   "execution_count": 78,
   "metadata": {},
   "outputs": [
    {
     "data": {
      "text/plain": [
       "True"
      ]
     },
     "execution_count": 78,
     "metadata": {},
     "output_type": "execute_result"
    }
   ],
   "source": [
    "\"hello\" in my_tuple  # True"
   ]
  },
  {
   "cell_type": "markdown",
   "metadata": {},
   "source": [
    "#### Tuple Methods\n",
    "\n",
    "Index: Find the position of an element"
   ]
  },
  {
   "cell_type": "code",
   "execution_count": 79,
   "metadata": {},
   "outputs": [
    {
     "data": {
      "text/plain": [
       "2"
      ]
     },
     "execution_count": 79,
     "metadata": {},
     "output_type": "execute_result"
    }
   ],
   "source": [
    "my_tuple.index(3.14)  # Output: 2"
   ]
  },
  {
   "cell_type": "markdown",
   "metadata": {},
   "source": [
    "Count: Count occurrences of an element"
   ]
  },
  {
   "cell_type": "code",
   "execution_count": 80,
   "metadata": {},
   "outputs": [
    {
     "data": {
      "text/plain": [
       "1"
      ]
     },
     "execution_count": 80,
     "metadata": {},
     "output_type": "execute_result"
    }
   ],
   "source": [
    "my_tuple.count(1)  # Output: 1"
   ]
  },
  {
   "cell_type": "markdown",
   "metadata": {},
   "source": [
    "#### Packing and Unpacking\n",
    "Packing: Combine multiple values into a tuple.\n"
   ]
  },
  {
   "cell_type": "code",
   "execution_count": 7,
   "metadata": {},
   "outputs": [
    {
     "data": {
      "text/plain": [
       "(1, 2, 3)"
      ]
     },
     "execution_count": 7,
     "metadata": {},
     "output_type": "execute_result"
    }
   ],
   "source": [
    "my_tuple = 1, 2, 3\n",
    "my_tuple"
   ]
  },
  {
   "cell_type": "markdown",
   "metadata": {},
   "source": [
    "Unpacking: Assign tuple elements to variables"
   ]
  },
  {
   "cell_type": "code",
   "execution_count": 10,
   "metadata": {},
   "outputs": [
    {
     "name": "stdout",
     "output_type": "stream",
     "text": [
      "1\n",
      "2\n",
      "3\n"
     ]
    }
   ],
   "source": [
    "a, b, c = my_tuple\n",
    "print(a)\n",
    "print(b)\n",
    "print(c)"
   ]
  },
  {
   "cell_type": "markdown",
   "metadata": {},
   "source": [
    "# Functions\n",
    "\n",
    "A function is a block of reusable code that performs a specific task.\n",
    "\n",
    "##### Why Use Functions?\n",
    "* Avoid code repetition.\n",
    "* Improve readability and modularity.\n",
    "\n",
    "#### Defining and Calling Functions"
   ]
  },
  {
   "cell_type": "code",
   "execution_count": null,
   "metadata": {},
   "outputs": [
    {
     "name": "stdout",
     "output_type": "stream",
     "text": [
      "Hello, Alice!\n"
     ]
    }
   ],
   "source": [
    "# Defining\n",
    "# def function_name(parameters):\n",
    "#     # code block\n",
    "\n",
    "# Calling\n",
    "# function_name(arguments)\n",
    "\n",
    "# Example\n",
    "def greet(name):\n",
    "    \"\"\"\n",
    "    Print a personalized greeting.\n",
    "\n",
    "    Parameters\n",
    "    ----------\n",
    "    name : str\n",
    "        The name of the person to greet.\n",
    "\n",
    "    Returns\n",
    "    -------\n",
    "    None\n",
    "    \"\"\"\n",
    "    print(f\"Hello, {name}!\")\n",
    "greet(\"Alice\")  # Output: Hello, Alice!"
   ]
  },
  {
   "cell_type": "markdown",
   "metadata": {},
   "source": [
    "#### Parameters and Arguments\n",
    "* Positional Arguments: Matched by position.\n",
    "* Keyword Arguments: Matched by name."
   ]
  },
  {
   "cell_type": "code",
   "execution_count": 2,
   "metadata": {},
   "outputs": [
    {
     "name": "stdout",
     "output_type": "stream",
     "text": [
      "Hello, Alice!\n",
      "Hi, Alice!\n",
      "Good Morning!, Alice!\n"
     ]
    }
   ],
   "source": [
    "def greet(name, message=\"Hello\"):\n",
    "    print(f\"{message}, {name}!\")\n",
    "greet(\"Alice\")           # Output: Hello, Alice!\n",
    "greet(\"Alice\", \"Hi\")     # Output: Hi, Alice!\n",
    "greet(message=\"Good Morning!\",name=\"Alice\")"
   ]
  },
  {
   "cell_type": "markdown",
   "metadata": {},
   "source": [
    "* Arbitrary Arguments: Arbitrary arguments allow functions to accept a variable number of arguments, making them flexible for different use cases. Python provides two main mechanisms for this:\n",
    "    - `*args`: For variable number of positional arguments.\n",
    "    - `**kwargs`: For variable number of keyword arguments."
   ]
  },
  {
   "cell_type": "markdown",
   "metadata": {},
   "source": [
    "***args (Variable Positional Arguments)**\n",
    "- *args allows a function to accept any number of positional arguments.\n",
    "- The arguments are passed as a tuple, which can be iterated over."
   ]
  },
  {
   "cell_type": "code",
   "execution_count": 92,
   "metadata": {},
   "outputs": [
    {
     "name": "stdout",
     "output_type": "stream",
     "text": [
      "Sum: 6\n",
      "Sum: 100\n"
     ]
    }
   ],
   "source": [
    "#Syntax \n",
    "def function_name(*args):\n",
    "    # args is a tuple\n",
    "    for arg in args:\n",
    "        print(arg)\n",
    "\n",
    "# Example\n",
    "def sum_all(*numbers):\n",
    "    total = sum(numbers)\n",
    "    print(f\"Sum: {total}\")\n",
    "\n",
    "sum_all(1, 2, 3)         # Output: Sum: 6\n",
    "sum_all(10, 20, 30, 40)  # Output: Sum: 100"
   ]
  },
  {
   "cell_type": "markdown",
   "metadata": {},
   "source": [
    "****kwargs (Variable Keyword Arguments)**\n",
    "- **kwargs allows a function to accept any number of keyword arguments.\n",
    "- The arguments are passed as a dictionary where keys are argument names and values are argument values."
   ]
  },
  {
   "cell_type": "code",
   "execution_count": 93,
   "metadata": {},
   "outputs": [
    {
     "name": "stdout",
     "output_type": "stream",
     "text": [
      "name: Alice\n",
      "age: 25\n",
      "city: New York\n"
     ]
    }
   ],
   "source": [
    "# Syntax\n",
    "def function_name(**kwargs):\n",
    "    # kwargs is a dictionary\n",
    "    for key, value in kwargs.items():\n",
    "        print(f\"{key}: {value}\")\n",
    "\n",
    "# Example\n",
    "def print_details(**details):\n",
    "    for key, value in details.items():\n",
    "        print(f\"{key}: {value}\")\n",
    "\n",
    "print_details(name=\"Alice\", age=25, city=\"New York\")\n",
    "# Output:\n",
    "# name: Alice\n",
    "# age: 25\n",
    "# city: New York"
   ]
  },
  {
   "cell_type": "markdown",
   "metadata": {},
   "source": [
    "#### Combining *args and **kwargs\n",
    "\n",
    "You can use both *args and **kwargs in the same function to handle a mix of positional and keyword arguments."
   ]
  },
  {
   "cell_type": "code",
   "execution_count": 94,
   "metadata": {},
   "outputs": [
    {
     "name": "stdout",
     "output_type": "stream",
     "text": [
      "Positional arguments: (1, 2, 3)\n",
      "Keyword arguments: {'name': 'Alice', 'age': 25}\n"
     ]
    }
   ],
   "source": [
    "def mix_arguments(*args, **kwargs):\n",
    "    print(\"Positional arguments:\", args)\n",
    "    print(\"Keyword arguments:\", kwargs)\n",
    "\n",
    "mix_arguments(1, 2, 3, name=\"Alice\", age=25)\n",
    "# Output:\n",
    "# Positional arguments: (1, 2, 3)\n",
    "# Keyword arguments: {'name': 'Alice', 'age': 25}"
   ]
  },
  {
   "cell_type": "markdown",
   "metadata": {},
   "source": [
    "**Key Points**\n",
    "- *args is used for positional arguments; it collects them as a tuple.\n",
    "- **kwargs is used for keyword arguments; it collects them as a dictionary.\n",
    "- Use these when the number of arguments or the types of arguments may vary."
   ]
  },
  {
   "cell_type": "markdown",
   "metadata": {},
   "source": [
    "#### Return Values\n",
    "Use return to send a result back to the caller"
   ]
  },
  {
   "cell_type": "code",
   "execution_count": 12,
   "metadata": {},
   "outputs": [
    {
     "data": {
      "text/plain": [
       "8"
      ]
     },
     "execution_count": 12,
     "metadata": {},
     "output_type": "execute_result"
    }
   ],
   "source": [
    "def add(a, b):\n",
    "    return a + b\n",
    "result = add(5, 3)  # Output: 8\n",
    "result"
   ]
  },
  {
   "cell_type": "markdown",
   "metadata": {},
   "source": [
    "#### Lambda Functions\n",
    "Anonymous Functions: Short one-liner functions"
   ]
  },
  {
   "cell_type": "code",
   "execution_count": 88,
   "metadata": {},
   "outputs": [
    {
     "name": "stdout",
     "output_type": "stream",
     "text": [
      "16\n"
     ]
    }
   ],
   "source": [
    "square = lambda x: x**2\n",
    "print(square(4))  # Output: 16"
   ]
  },
  {
   "cell_type": "markdown",
   "metadata": {},
   "source": [
    "Often used with functions like map(), filter(), and reduce()."
   ]
  },
  {
   "cell_type": "markdown",
   "metadata": {},
   "source": [
    "#### Scope and Recursion\n",
    "\n",
    "* **Scope**:\n",
    "    - Local variables: Defined inside a function.\n",
    "    - Global variables: Defined outside all functions.\n",
    "* **Recursion** : A function calling itself"
   ]
  },
  {
   "cell_type": "code",
   "execution_count": null,
   "metadata": {},
   "outputs": [
    {
     "name": "stdout",
     "output_type": "stream",
     "text": [
      "120\n"
     ]
    }
   ],
   "source": [
    "def factorial(n):\n",
    "    return 1 if n == 0 else n * factorial(n-1)\n",
    "print(factorial(5))  # Output: 120"
   ]
  },
  {
   "cell_type": "markdown",
   "metadata": {},
   "source": [
    "### Class"
   ]
  },
  {
   "cell_type": "code",
   "execution_count": 34,
   "metadata": {},
   "outputs": [],
   "source": [
    "class MathmaticalFunctions:\n",
    "    def __init__(self,name):\n",
    "        self.name = name\n",
    "\n",
    "    def sum(self,a, b):\n",
    "        global c\n",
    "        c = a +b\n",
    "        self.c = c\n",
    "        return c, self.name\n",
    "    \n",
    "    def print(self):\n",
    "        sum = self.sum(2, 3)\n",
    "        print(self.name)\n",
    "        print(self.c)"
   ]
  },
  {
   "cell_type": "code",
   "execution_count": 37,
   "metadata": {},
   "outputs": [
    {
     "data": {
      "text/plain": [
       "(7, 'Math')"
      ]
     },
     "execution_count": 37,
     "metadata": {},
     "output_type": "execute_result"
    }
   ],
   "source": [
    "MathmaticalFunctions(\"Math\").sum(3,4)  "
   ]
  },
  {
   "cell_type": "code",
   "execution_count": 38,
   "metadata": {},
   "outputs": [
    {
     "data": {
      "text/plain": [
       "7"
      ]
     },
     "execution_count": 38,
     "metadata": {},
     "output_type": "execute_result"
    }
   ],
   "source": [
    "c"
   ]
  },
  {
   "cell_type": "markdown",
   "metadata": {},
   "source": [
    "#### Best Practices\n",
    "- Use descriptive names for functions and parameters.\n",
    "- Keep functions small and focused.\n",
    "- Document functions with comments or docstrings"
   ]
  },
  {
   "cell_type": "code",
   "execution_count": 90,
   "metadata": {},
   "outputs": [],
   "source": [
    "def add(a, b):\n",
    "    \"\"\"Returns the sum of a and b.\"\"\"\n",
    "    return a + b"
   ]
  },
  {
   "cell_type": "markdown",
   "metadata": {},
   "source": [
    "# Array\n",
    "- A collection of items stored at contiguous memory locations.\n",
    "- Allows for efficient storage and manipulation of multiple elements of the same data type.\n",
    "- In Python, arrays are available via the array module or libraries like NumPy.\n",
    "\n",
    "#### Useful Array Methods\n",
    "- `append(value)`: Add an element to the array.\n",
    "- `extend([values])`: Add multiple elements.\n",
    "- `insert(index, value)`: Insert an element at a specific position.\n",
    "- `pop(index)`: Remove and return an element.\n",
    "- `index(value)`: Find the position of a value.\n",
    "\n",
    "#### Arrays vs Lists\n",
    "- Arrays store elements of one data type, while lists allow mixed types.\n",
    "- Arrays are faster and use less memory for numerical data.\n",
    "- Use lists for flexibility; use arrays for performance in numerical computations.\n",
    "\n",
    "#### Applications of Arrays\n",
    "- Storing large amounts of numerical data.\n",
    "- Performing mathematical operations efficiently.\n",
    "- Basis for scientific computing and data manipulation with libraries like NumPy."
   ]
  },
  {
   "cell_type": "code",
   "execution_count": 95,
   "metadata": {},
   "outputs": [],
   "source": [
    "# Syntax\n",
    "# from array import array\n",
    "# my_array = array(typecode, [elements])"
   ]
  },
  {
   "cell_type": "markdown",
   "metadata": {},
   "source": [
    "#### Creating and Accessing Arrays\n",
    "\n",
    "Creating an Array"
   ]
  },
  {
   "cell_type": "code",
   "execution_count": 18,
   "metadata": {},
   "outputs": [
    {
     "data": {
      "text/plain": [
       "array('i', [1, 2, 3, 4])"
      ]
     },
     "execution_count": 18,
     "metadata": {},
     "output_type": "execute_result"
    }
   ],
   "source": [
    "from array import array\n",
    "my_array = array('i', [1, 2, 3, 4])\n",
    "my_array"
   ]
  },
  {
   "cell_type": "markdown",
   "metadata": {},
   "source": [
    "Accessing Elements"
   ]
  },
  {
   "cell_type": "code",
   "execution_count": 19,
   "metadata": {},
   "outputs": [
    {
     "name": "stdout",
     "output_type": "stream",
     "text": [
      "1\n",
      "4\n"
     ]
    }
   ],
   "source": [
    "print(my_array[0])  # Output: 1\n",
    "print(my_array[-1]) # Output: 4"
   ]
  },
  {
   "cell_type": "markdown",
   "metadata": {},
   "source": [
    "#### Array Operations\n",
    "\n",
    "Add Elements"
   ]
  },
  {
   "cell_type": "code",
   "execution_count": 113,
   "metadata": {},
   "outputs": [
    {
     "data": {
      "text/plain": [
       "array('i', [1, 2, 3, 4, 5])"
      ]
     },
     "execution_count": 113,
     "metadata": {},
     "output_type": "execute_result"
    }
   ],
   "source": [
    "my_array.append(5)  # Add 5 to the end\n",
    "my_array"
   ]
  },
  {
   "cell_type": "markdown",
   "metadata": {},
   "source": [
    "Remove Elements"
   ]
  },
  {
   "cell_type": "code",
   "execution_count": 114,
   "metadata": {},
   "outputs": [
    {
     "data": {
      "text/plain": [
       "array('i', [1, 3, 4, 5])"
      ]
     },
     "execution_count": 114,
     "metadata": {},
     "output_type": "execute_result"
    }
   ],
   "source": [
    "my_array.remove(2)  # Remove the first occurrence of 2\n",
    "my_array"
   ]
  },
  {
   "cell_type": "markdown",
   "metadata": {},
   "source": [
    "Modify Elements"
   ]
  },
  {
   "cell_type": "code",
   "execution_count": 115,
   "metadata": {},
   "outputs": [
    {
     "data": {
      "text/plain": [
       "array('i', [1, 10, 4, 5])"
      ]
     },
     "execution_count": 115,
     "metadata": {},
     "output_type": "execute_result"
    }
   ],
   "source": [
    "my_array[1] = 10  # Update second element to 10\n",
    "my_array"
   ]
  },
  {
   "cell_type": "markdown",
   "metadata": {},
   "source": [
    "#### Iterating Through Arrays\n",
    "\n",
    "Using Loops"
   ]
  },
  {
   "cell_type": "code",
   "execution_count": 116,
   "metadata": {},
   "outputs": [
    {
     "name": "stdout",
     "output_type": "stream",
     "text": [
      "1\n",
      "10\n",
      "4\n",
      "5\n"
     ]
    }
   ],
   "source": [
    "for element in my_array:\n",
    "    print(element)"
   ]
  },
  {
   "cell_type": "markdown",
   "metadata": {},
   "source": [
    "Using Index"
   ]
  },
  {
   "cell_type": "code",
   "execution_count": 117,
   "metadata": {},
   "outputs": [
    {
     "name": "stdout",
     "output_type": "stream",
     "text": [
      "1\n",
      "10\n",
      "4\n",
      "5\n"
     ]
    }
   ],
   "source": [
    "for i in range(len(my_array)):\n",
    "    print(my_array[i])"
   ]
  },
  {
   "cell_type": "markdown",
   "metadata": {},
   "source": [
    "# Selection by position & Labels \n",
    "\n",
    "- **Selection by Position**: Access data using integer-based indexing.\n",
    "- **Selection by Labels**: Access data using named indices or keys (commonly used in pandas or dictionaries).\n",
    "- Useful in structured data manipulation, especially with pandas DataFrames or Series.\n",
    "\n",
    "#### Applications\n",
    "* Selection by Position:\n",
    "    - For numerical indexing in lists, arrays, or DataFrames.\n",
    "    - Efficient when labels are unavailable.\n",
    "* Selection by Labels:\n",
    "    - Used in structured datasets where rows/columns have meaningful names.\n",
    "    - Common in data analysis and manipulation tasks.\n",
    "\n",
    "#### Selection by Position\n",
    "Works with sequences like lists, tuples, and pandas objects.\n",
    "\n",
    "For Lists/Tuples:"
   ]
  },
  {
   "cell_type": "code",
   "execution_count": 118,
   "metadata": {},
   "outputs": [
    {
     "name": "stdout",
     "output_type": "stream",
     "text": [
      "20\n"
     ]
    }
   ],
   "source": [
    "my_list = [10, 20, 30]\n",
    "print(my_list[1])  # Output: 20"
   ]
  },
  {
   "cell_type": "markdown",
   "metadata": {},
   "source": [
    "For pandas: Use .iloc[]"
   ]
  },
  {
   "cell_type": "code",
   "execution_count": 120,
   "metadata": {},
   "outputs": [
    {
     "name": "stdout",
     "output_type": "stream",
     "text": [
      "A    1\n",
      "Name: 0, dtype: int64\n"
     ]
    }
   ],
   "source": [
    "import pandas as pd\n",
    "data = pd.DataFrame({'A': [1, 2, 3]})\n",
    "print(data.iloc[0])  # First row"
   ]
  },
  {
   "cell_type": "markdown",
   "metadata": {},
   "source": [
    "#### Selection by Labels\n",
    "Works with dictionaries, pandas Series, and DataFrames.\n",
    "\n",
    "For Dictionaries"
   ]
  },
  {
   "cell_type": "code",
   "execution_count": 124,
   "metadata": {},
   "outputs": [
    {
     "name": "stdout",
     "output_type": "stream",
     "text": [
      "Alice\n"
     ]
    }
   ],
   "source": [
    "my_dict = {'name': 'Alice', 'age': 25}\n",
    "print(my_dict['name'])  # Output: Alice"
   ]
  },
  {
   "cell_type": "markdown",
   "metadata": {},
   "source": [
    "For pandas: Use .loc[]"
   ]
  },
  {
   "cell_type": "code",
   "execution_count": 125,
   "metadata": {},
   "outputs": [
    {
     "name": "stdout",
     "output_type": "stream",
     "text": [
      "A    1\n",
      "Name: a, dtype: int64\n"
     ]
    }
   ],
   "source": [
    "import pandas as pd\n",
    "data = pd.DataFrame({'A': [1, 2, 3]}, index=['a', 'b', 'c'])\n",
    "print(data.loc['a'])  # Row with label 'a'"
   ]
  },
  {
   "cell_type": "markdown",
   "metadata": {},
   "source": [
    "#### Mixed Indexing in pandas\n",
    "Position & Labels Together"
   ]
  },
  {
   "cell_type": "code",
   "execution_count": 127,
   "metadata": {},
   "outputs": [
    {
     "name": "stdout",
     "output_type": "stream",
     "text": [
      "1\n",
      "1\n"
     ]
    }
   ],
   "source": [
    "print(data.loc['a', 'A'])  # Label-based row & column\n",
    "print(data.iloc[0, 0])    # Position-based row & column\n",
    "\n",
    "#Can combine .loc[] and .iloc[] for flexibility."
   ]
  }
 ],
 "metadata": {
  "kernelspec": {
   "display_name": "venv",
   "language": "python",
   "name": "python3"
  },
  "language_info": {
   "codemirror_mode": {
    "name": "ipython",
    "version": 3
   },
   "file_extension": ".py",
   "mimetype": "text/x-python",
   "name": "python",
   "nbconvert_exporter": "python",
   "pygments_lexer": "ipython3",
   "version": "3.12.0"
  }
 },
 "nbformat": 4,
 "nbformat_minor": 2
}
