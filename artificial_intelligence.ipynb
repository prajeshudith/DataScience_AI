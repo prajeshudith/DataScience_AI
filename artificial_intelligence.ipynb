{
 "cells": [
  {
   "cell_type": "markdown",
   "metadata": {},
   "source": [
    "# Artificial Intelligence"
   ]
  },
  {
   "cell_type": "markdown",
   "metadata": {},
   "source": [
    "## Perceptron"
   ]
  },
  {
   "cell_type": "code",
   "execution_count": 1,
   "metadata": {},
   "outputs": [
    {
     "name": "stdout",
     "output_type": "stream",
     "text": [
      "Predictions: [1 0 0 0]\n"
     ]
    }
   ],
   "source": [
    "import numpy as np\n",
    "\n",
    "class Perceptron:\n",
    "    def __init__(self, learning_rate=0.01, epochs=1000):\n",
    "        self.learning_rate = learning_rate\n",
    "        self.epochs = epochs\n",
    "        self.weights = None\n",
    "        self.bias = None\n",
    "\n",
    "    def fit(self, X, y):\n",
    "        n_samples, n_features = X.shape\n",
    "        self.weights = np.zeros(n_features)\n",
    "        self.bias = 0\n",
    "\n",
    "        for _ in range(self.epochs):\n",
    "            for idx, x_i in enumerate(X):\n",
    "                linear_output = np.dot(x_i, self.weights) + self.bias\n",
    "                y_predicted = self.activation_function(linear_output)\n",
    "\n",
    "                # Perceptron update rule\n",
    "                update = self.learning_rate * (y[idx] - y_predicted)\n",
    "                self.weights += update * x_i\n",
    "                self.bias += update\n",
    "\n",
    "    def activation_function(self, x):\n",
    "        return np.where(x >= 0, 1, 0)\n",
    "\n",
    "    def predict(self, X):\n",
    "        linear_output = np.dot(X, self.weights) + self.bias\n",
    "        return self.activation_function(linear_output)\n",
    "\n",
    "# Example usage\n",
    "X = np.array([[1, 1], [1, 0], [0, 1], [0, 0]])\n",
    "y = np.array([1, 0, 0, 0])\n",
    "\n",
    "p = Perceptron(learning_rate=0.1, epochs=10)\n",
    "p.fit(X, y)\n",
    "print(\"Predictions:\", p.predict(X))"
   ]
  },
  {
   "cell_type": "code",
   "execution_count": 2,
   "metadata": {},
   "outputs": [
    {
     "name": "stdout",
     "output_type": "stream",
     "text": [
      "Accuracy: 0.63\n"
     ]
    }
   ],
   "source": [
    "from sklearn.datasets import make_classification\n",
    "from sklearn.model_selection import train_test_split\n",
    "from sklearn.metrics import accuracy_score\n",
    "\n",
    "# Generate a synthetic dataset\n",
    "X, y = make_classification(n_samples=1000, n_features=2, n_classes=2, n_informative=2, n_redundant=0, random_state=42)\n",
    "X_train, X_test, y_train, y_test = train_test_split(X, y, test_size=0.2, random_state=42)\n",
    "\n",
    "# Train perceptron\n",
    "p = Perceptron(learning_rate=0.01, epochs=1000)\n",
    "p.fit(X_train, y_train)\n",
    "\n",
    "# Evaluate\n",
    "y_pred = p.predict(X_test)\n",
    "print(\"Accuracy:\", accuracy_score(y_test, y_pred))"
   ]
  },
  {
   "cell_type": "markdown",
   "metadata": {},
   "source": [
    "## MLP"
   ]
  },
  {
   "cell_type": "code",
   "execution_count": 3,
   "metadata": {},
   "outputs": [
    {
     "name": "stdout",
     "output_type": "stream",
     "text": [
      "Epoch 1/10\n",
      "\u001b[1m25/25\u001b[0m \u001b[32m━━━━━━━━━━━━━━━━━━━━\u001b[0m\u001b[37m\u001b[0m \u001b[1m2s\u001b[0m 10ms/step - accuracy: 0.4849 - loss: 0.7177 - val_accuracy: 0.5050 - val_loss: 0.7055\n",
      "Epoch 2/10\n",
      "\u001b[1m25/25\u001b[0m \u001b[32m━━━━━━━━━━━━━━━━━━━━\u001b[0m\u001b[37m\u001b[0m \u001b[1m0s\u001b[0m 4ms/step - accuracy: 0.5282 - loss: 0.6930 - val_accuracy: 0.5300 - val_loss: 0.6933\n",
      "Epoch 3/10\n",
      "\u001b[1m25/25\u001b[0m \u001b[32m━━━━━━━━━━━━━━━━━━━━\u001b[0m\u001b[37m\u001b[0m \u001b[1m0s\u001b[0m 5ms/step - accuracy: 0.5467 - loss: 0.6860 - val_accuracy: 0.5200 - val_loss: 0.6943\n",
      "Epoch 4/10\n",
      "\u001b[1m25/25\u001b[0m \u001b[32m━━━━━━━━━━━━━━━━━━━━\u001b[0m\u001b[37m\u001b[0m \u001b[1m0s\u001b[0m 5ms/step - accuracy: 0.5517 - loss: 0.6896 - val_accuracy: 0.5050 - val_loss: 0.6975\n",
      "Epoch 5/10\n",
      "\u001b[1m25/25\u001b[0m \u001b[32m━━━━━━━━━━━━━━━━━━━━\u001b[0m\u001b[37m\u001b[0m \u001b[1m0s\u001b[0m 5ms/step - accuracy: 0.5441 - loss: 0.6842 - val_accuracy: 0.4950 - val_loss: 0.6993\n",
      "Epoch 6/10\n",
      "\u001b[1m25/25\u001b[0m \u001b[32m━━━━━━━━━━━━━━━━━━━━\u001b[0m\u001b[37m\u001b[0m \u001b[1m0s\u001b[0m 5ms/step - accuracy: 0.5846 - loss: 0.6809 - val_accuracy: 0.4900 - val_loss: 0.7002\n",
      "Epoch 7/10\n",
      "\u001b[1m25/25\u001b[0m \u001b[32m━━━━━━━━━━━━━━━━━━━━\u001b[0m\u001b[37m\u001b[0m \u001b[1m0s\u001b[0m 5ms/step - accuracy: 0.5322 - loss: 0.6867 - val_accuracy: 0.5400 - val_loss: 0.6955\n",
      "Epoch 8/10\n",
      "\u001b[1m25/25\u001b[0m \u001b[32m━━━━━━━━━━━━━━━━━━━━\u001b[0m\u001b[37m\u001b[0m \u001b[1m0s\u001b[0m 5ms/step - accuracy: 0.5751 - loss: 0.6831 - val_accuracy: 0.4800 - val_loss: 0.7053\n",
      "Epoch 9/10\n",
      "\u001b[1m25/25\u001b[0m \u001b[32m━━━━━━━━━━━━━━━━━━━━\u001b[0m\u001b[37m\u001b[0m \u001b[1m0s\u001b[0m 6ms/step - accuracy: 0.5825 - loss: 0.6771 - val_accuracy: 0.4950 - val_loss: 0.7051\n",
      "Epoch 10/10\n",
      "\u001b[1m25/25\u001b[0m \u001b[32m━━━━━━━━━━━━━━━━━━━━\u001b[0m\u001b[37m\u001b[0m \u001b[1m0s\u001b[0m 5ms/step - accuracy: 0.5780 - loss: 0.6755 - val_accuracy: 0.5150 - val_loss: 0.7046\n",
      "\u001b[1m32/32\u001b[0m \u001b[32m━━━━━━━━━━━━━━━━━━━━\u001b[0m\u001b[37m\u001b[0m \u001b[1m0s\u001b[0m 2ms/step - accuracy: 0.5812 - loss: 0.6738 \n",
      "Loss: 0.6777462363243103, Accuracy: 0.5740000009536743\n"
     ]
    }
   ],
   "source": [
    "import numpy as np\n",
    "from tensorflow.keras.models import Sequential\n",
    "from tensorflow.keras.layers import Dense\n",
    "from tensorflow.keras.optimizers import Adam\n",
    "\n",
    "# Generate synthetic data\n",
    "X = np.random.rand(1000, 10)  # 1000 samples, 10 features\n",
    "y = np.random.randint(0, 2, 1000)  # Binary labels\n",
    "\n",
    "# Define the MLP model\n",
    "model = Sequential([\n",
    "    Dense(32, activation='relu', input_shape=(10,)),\n",
    "    Dense(16, activation='relu'),\n",
    "    Dense(1, activation='sigmoid')\n",
    "])\n",
    "\n",
    "# Compile the model\n",
    "model.compile(optimizer=Adam(learning_rate=0.01), loss='binary_crossentropy', metrics=['accuracy'])\n",
    "\n",
    "# Train the model\n",
    "history = model.fit(X, y, epochs=10, batch_size=32, validation_split=0.2)\n",
    "\n",
    "# Evaluate the model\n",
    "loss, accuracy = model.evaluate(X, y)\n",
    "print(f\"Loss: {loss}, Accuracy: {accuracy}\")    "
   ]
  },
  {
   "cell_type": "markdown",
   "metadata": {},
   "source": [
    "### Visualizing Training Progress"
   ]
  },
  {
   "cell_type": "code",
   "execution_count": 4,
   "metadata": {},
   "outputs": [
    {
     "data": {
      "image/png": "[encoded data removed]",
      "text/plain": [
       "<Figure size 640x480 with 1 Axes>"
      ]
     },
     "metadata": {},
     "output_type": "display_data"
    }
   ],
   "source": [
    "import matplotlib.pyplot as plt\n",
    "\n",
    "# Plot training and validation loss\n",
    "plt.plot(history.history['loss'], label='Training Loss')\n",
    "plt.plot(history.history['val_loss'], label='Validation Loss')\n",
    "plt.xlabel('Epochs')\n",
    "plt.ylabel('Loss')\n",
    "plt.legend()\n",
    "plt.show()"
   ]
  },
  {
   "cell_type": "markdown",
   "metadata": {},
   "source": [
    "### Interpretation of the Training and Validation Loss Graph\n",
    "\n",
    "#### **Graph Analysis**:\n",
    "1. **Training Loss** (Blue Line):\n",
    "   - The training loss decreases consistently across epochs.\n",
    "   - This indicates that the model is effectively learning from the training data and optimizing its parameters to reduce the error.\n",
    "\n",
    "2. **Validation Loss** (Orange Line):\n",
    "   - Initially decreases in the first few epochs, which suggests that the model is generalizing well to unseen data during this phase.\n",
    "   - After epoch 3-4, the validation loss begins to fluctuate and eventually increases slightly toward the end.\n",
    "\n",
    "#### **Insights**:\n",
    "1. **Early Generalization**:\n",
    "   - During the initial epochs, the training and validation losses decrease simultaneously, showing good generalization.\n",
    "\n",
    "2. **Overfitting Trend**:\n",
    "   - The upward trend in validation loss after epoch 4, while the training loss continues to decrease, is a sign of overfitting. The model starts to memorize the training data rather than generalizing to the validation set.\n",
    "\n",
    "#### **Key Observations**:\n",
    "- The training loss is consistently lower than the validation loss, which is expected in most cases.\n",
    "- The gap between the two losses widens after a few epochs, further indicating potential overfitting.\n",
    "\n",
    "#### **Recommendations**:\n",
    "1. **Early Stopping**:\n",
    "   - Implement early stopping to halt training when the validation loss stops improving, which might occur around epoch 4.\n",
    "\n",
    "2. **Regularization Techniques**:\n",
    "   - Introduce dropout layers to prevent overfitting.\n",
    "   - Apply L2 regularization to the weights in the dense layers.\n",
    "\n",
    "3. **Data Augmentation**:\n",
    "   - If applicable, augment the training data to enhance the model's ability to generalize.\n",
    "\n",
    "4. **Validation Data**:\n",
    "   - Ensure that the validation data is representative of the overall dataset to better assess the model's generalization performance.\n",
    "\n",
    "This graph provides valuable insights into how the model learns and generalizes over epochs, and it highlights areas for potential optimization."
   ]
  },
  {
   "cell_type": "markdown",
   "metadata": {},
   "source": [
    "### Multiclass Classification"
   ]
  },
  {
   "cell_type": "code",
   "execution_count": 8,
   "metadata": {},
   "outputs": [
    {
     "name": "stdout",
     "output_type": "stream",
     "text": [
      "Epoch 1/20\n"
     ]
    },
    {
     "name": "stderr",
     "output_type": "stream",
     "text": [
      "C:\\Users\\vella\\AppData\\Roaming\\Python\\Python312\\site-packages\\keras\\src\\layers\\core\\dense.py:87: UserWarning: Do not pass an `input_shape`/`input_dim` argument to a layer. When using Sequential models, prefer using an `Input(shape)` object as the first layer in the model instead.\n",
      "  super().__init__(activity_regularizer=activity_regularizer, **kwargs)\n"
     ]
    },
    {
     "name": "stdout",
     "output_type": "stream",
     "text": [
      "\u001b[1m25/25\u001b[0m \u001b[32m━━━━━━━━━━━━━━━━━━━━\u001b[0m\u001b[37m\u001b[0m \u001b[1m2s\u001b[0m 14ms/step - accuracy: 0.5283 - loss: 1.0932 - val_accuracy: 0.8100 - val_loss: 0.4576\n",
      "Epoch 2/20\n",
      "\u001b[1m25/25\u001b[0m \u001b[32m━━━━━━━━━━━━━━━━━━━━\u001b[0m\u001b[37m\u001b[0m \u001b[1m0s\u001b[0m 4ms/step - accuracy: 0.8533 - loss: 0.3687 - val_accuracy: 0.8675 - val_loss: 0.3399\n",
      "Epoch 3/20\n",
      "\u001b[1m25/25\u001b[0m \u001b[32m━━━━━━━━━━━━━━━━━━━━\u001b[0m\u001b[37m\u001b[0m \u001b[1m0s\u001b[0m 5ms/step - accuracy: 0.9210 - loss: 0.2511 - val_accuracy: 0.9050 - val_loss: 0.2855\n",
      "Epoch 4/20\n",
      "\u001b[1m25/25\u001b[0m \u001b[32m━━━━━━━━━━━━━━━━━━━━\u001b[0m\u001b[37m\u001b[0m \u001b[1m0s\u001b[0m 4ms/step - accuracy: 0.9405 - loss: 0.1889 - val_accuracy: 0.8900 - val_loss: 0.2962\n",
      "Epoch 5/20\n",
      "\u001b[1m25/25\u001b[0m \u001b[32m━━━━━━━━━━━━━━━━━━━━\u001b[0m\u001b[37m\u001b[0m \u001b[1m0s\u001b[0m 4ms/step - accuracy: 0.9425 - loss: 0.1955 - val_accuracy: 0.9100 - val_loss: 0.2447\n",
      "Epoch 6/20\n",
      "\u001b[1m25/25\u001b[0m \u001b[32m━━━━━━━━━━━━━━━━━━━━\u001b[0m\u001b[37m\u001b[0m \u001b[1m0s\u001b[0m 3ms/step - accuracy: 0.9635 - loss: 0.1073 - val_accuracy: 0.9100 - val_loss: 0.2510\n",
      "Epoch 7/20\n",
      "\u001b[1m25/25\u001b[0m \u001b[32m━━━━━━━━━━━━━━━━━━━━\u001b[0m\u001b[37m\u001b[0m \u001b[1m0s\u001b[0m 4ms/step - accuracy: 0.9595 - loss: 0.1157 - val_accuracy: 0.9050 - val_loss: 0.2877\n",
      "Epoch 8/20\n",
      "\u001b[1m25/25\u001b[0m \u001b[32m━━━━━━━━━━━━━━━━━━━━\u001b[0m\u001b[37m\u001b[0m \u001b[1m0s\u001b[0m 4ms/step - accuracy: 0.9751 - loss: 0.0870 - val_accuracy: 0.9175 - val_loss: 0.2547\n",
      "Epoch 9/20\n",
      "\u001b[1m25/25\u001b[0m \u001b[32m━━━━━━━━━━━━━━━━━━━━\u001b[0m\u001b[37m\u001b[0m \u001b[1m0s\u001b[0m 4ms/step - accuracy: 0.9679 - loss: 0.0953 - val_accuracy: 0.8925 - val_loss: 0.3043\n",
      "Epoch 10/20\n",
      "\u001b[1m25/25\u001b[0m \u001b[32m━━━━━━━━━━━━━━━━━━━━\u001b[0m\u001b[37m\u001b[0m \u001b[1m0s\u001b[0m 4ms/step - accuracy: 0.9759 - loss: 0.0754 - val_accuracy: 0.9025 - val_loss: 0.2831\n",
      "Epoch 11/20\n",
      "\u001b[1m25/25\u001b[0m \u001b[32m━━━━━━━━━━━━━━━━━━━━\u001b[0m\u001b[37m\u001b[0m \u001b[1m0s\u001b[0m 4ms/step - accuracy: 0.9889 - loss: 0.0429 - val_accuracy: 0.9125 - val_loss: 0.2816\n",
      "Epoch 12/20\n",
      "\u001b[1m25/25\u001b[0m \u001b[32m━━━━━━━━━━━━━━━━━━━━\u001b[0m\u001b[37m\u001b[0m \u001b[1m0s\u001b[0m 4ms/step - accuracy: 0.9847 - loss: 0.0509 - val_accuracy: 0.9250 - val_loss: 0.2714\n",
      "Epoch 13/20\n",
      "\u001b[1m25/25\u001b[0m \u001b[32m━━━━━━━━━━━━━━━━━━━━\u001b[0m\u001b[37m\u001b[0m \u001b[1m0s\u001b[0m 4ms/step - accuracy: 0.9912 - loss: 0.0327 - val_accuracy: 0.9200 - val_loss: 0.2711\n",
      "Epoch 14/20\n",
      "\u001b[1m25/25\u001b[0m \u001b[32m━━━━━━━━━━━━━━━━━━━━\u001b[0m\u001b[37m\u001b[0m \u001b[1m0s\u001b[0m 3ms/step - accuracy: 0.9910 - loss: 0.0257 - val_accuracy: 0.8975 - val_loss: 0.3315\n",
      "Epoch 15/20\n",
      "\u001b[1m25/25\u001b[0m \u001b[32m━━━━━━━━━━━━━━━━━━━━\u001b[0m\u001b[37m\u001b[0m \u001b[1m0s\u001b[0m 3ms/step - accuracy: 0.9947 - loss: 0.0192 - val_accuracy: 0.9175 - val_loss: 0.2859\n",
      "Epoch 16/20\n",
      "\u001b[1m25/25\u001b[0m \u001b[32m━━━━━━━━━━━━━━━━━━━━\u001b[0m\u001b[37m\u001b[0m \u001b[1m0s\u001b[0m 3ms/step - accuracy: 0.9970 - loss: 0.0160 - val_accuracy: 0.9175 - val_loss: 0.3270\n",
      "Epoch 17/20\n",
      "\u001b[1m25/25\u001b[0m \u001b[32m━━━━━━━━━━━━━━━━━━━━\u001b[0m\u001b[37m\u001b[0m \u001b[1m0s\u001b[0m 3ms/step - accuracy: 0.9910 - loss: 0.0257 - val_accuracy: 0.8625 - val_loss: 0.5220\n",
      "Epoch 18/20\n",
      "\u001b[1m25/25\u001b[0m \u001b[32m━━━━━━━━━━━━━━━━━━━━\u001b[0m\u001b[37m\u001b[0m \u001b[1m0s\u001b[0m 3ms/step - accuracy: 0.9728 - loss: 0.0764 - val_accuracy: 0.8925 - val_loss: 0.4476\n",
      "Epoch 19/20\n",
      "\u001b[1m25/25\u001b[0m \u001b[32m━━━━━━━━━━━━━━━━━━━━\u001b[0m\u001b[37m\u001b[0m \u001b[1m0s\u001b[0m 3ms/step - accuracy: 0.9703 - loss: 0.0680 - val_accuracy: 0.9175 - val_loss: 0.3303\n",
      "Epoch 20/20\n",
      "\u001b[1m25/25\u001b[0m \u001b[32m━━━━━━━━━━━━━━━━━━━━\u001b[0m\u001b[37m\u001b[0m \u001b[1m0s\u001b[0m 3ms/step - accuracy: 0.9746 - loss: 0.0727 - val_accuracy: 0.8925 - val_loss: 0.3582\n",
      "\u001b[1m13/13\u001b[0m \u001b[32m━━━━━━━━━━━━━━━━━━━━\u001b[0m\u001b[37m\u001b[0m \u001b[1m0s\u001b[0m 1ms/step - accuracy: 0.8971 - loss: 0.3886 \n",
      "Test Loss: 0.3582365810871124, Test Accuracy: 0.8924999833106995\n"
     ]
    }
   ],
   "source": [
    "from sklearn.datasets import make_classification\n",
    "from sklearn.model_selection import train_test_split\n",
    "from tensorflow.keras.utils import to_categorical\n",
    "\n",
    "# Generate synthetic data\n",
    "X, y = make_classification(n_samples=2000, n_features=20, n_classes=3, n_informative=15)\n",
    "y = to_categorical(y)\n",
    "\n",
    "X_train, X_test, y_train, y_test = train_test_split(X, y, test_size=0.2, random_state=42)\n",
    "\n",
    "# Define the MLP model\n",
    "model = Sequential([\n",
    "    Dense(64, activation='relu', input_shape=(20,)),\n",
    "    Dense(32, activation='relu'),\n",
    "    Dense(3, activation='softmax')\n",
    "])\n",
    "\n",
    "# Compile the model\n",
    "model.compile(optimizer=Adam(learning_rate=0.01), loss='categorical_crossentropy', metrics=['accuracy'])\n",
    "\n",
    "# Train the model\n",
    "history = model.fit(X_train, y_train, epochs=20, batch_size=64, validation_data=(X_test, y_test))\n",
    "\n",
    "# Evaluate the model\n",
    "loss, accuracy = model.evaluate(X_test, y_test)\n",
    "print(f\"Test Loss: {loss}, Test Accuracy: {accuracy}\")"
   ]
  },
  {
   "cell_type": "markdown",
   "metadata": {},
   "source": [
    "### Visualizing the Training Process\n",
    "Diagram: How Epochs, Batches, and Iterations Interact"
   ]
  },
  {
   "cell_type": "markdown",
   "metadata": {},
   "source": [
    "Look at the `epoch.md` Markdown file"
   ]
  },
  {
   "cell_type": "markdown",
   "metadata": {},
   "source": [
    "## Markov Decision Process (MDP)"
   ]
  },
  {
   "cell_type": "markdown",
   "metadata": {},
   "source": [
    "Let’s solve a simple MDP using Value Iteration.\n",
    "\n",
    "Problem: Grid World\n",
    "\n",
    "A 3x3 grid with:\n",
    "\n",
    "* Start: Top-left corner.\n",
    "\n",
    "* Goal: Bottom-right corner.\n",
    "\n",
    "* Reward: +1 at the goal, -0.1 for each step.\n",
    "\n",
    "* Discount: 0.5"
   ]
  },
  {
   "cell_type": "code",
   "execution_count": 18,
   "metadata": {},
   "outputs": [
    {
     "name": "stdout",
     "output_type": "stream",
     "text": [
      "Optimal Values:\n",
      "[-0.1875, -0.17500000000000002, -0.15000000000000002]\n",
      "[-0.17500000000000002, -0.15000000000000002, -0.1]\n",
      "[-0.15000000000000002, -0.1, 0]\n"
     ]
    }
   ],
   "source": [
    "import numpy as np\n",
    "\n",
    "# Define the MDP components\n",
    "states = [(i, j) for i in range(3) for j in range(3)]\n",
    "actions = [\"up\", \"down\", \"left\", \"right\"]\n",
    "discount_factor = 0.5\n",
    "\n",
    "# Rewards\n",
    "rewards = {s: -0.1 for s in states}\n",
    "rewards[(2, 2)] = 1\n",
    "\n",
    "# Transition probabilities\n",
    "def transition_probabilities(state, action):\n",
    "    i, j = state\n",
    "    if state == (2, 2):\n",
    "        return [(state, 1.0)]\n",
    "    \n",
    "    if action == \"up\":\n",
    "        next_state = (max(i - 1, 0), j)\n",
    "    elif action == \"down\":\n",
    "        next_state = (min(i + 1, 2), j)\n",
    "    elif action == \"left\":\n",
    "        next_state = (i, max(j - 1, 0))\n",
    "    elif action == \"right\":\n",
    "        next_state = (i, min(j + 1, 2))\n",
    "    \n",
    "    return [(next_state, 1.0)]\n",
    "\n",
    "# Value Iteration\n",
    "def value_iteration(states, actions, rewards, gamma, theta=1e-6):\n",
    "    V = {s: 0 for s in states}  # Initialize value function\n",
    "    while True:\n",
    "        delta = 0\n",
    "        new_V = V.copy()\n",
    "        for state in states:\n",
    "            if state == (2, 2):\n",
    "                continue\n",
    "            action_values = []\n",
    "            for action in actions:\n",
    "                value = 0\n",
    "                for next_state, prob in transition_probabilities(state, action):\n",
    "                    value += prob * (rewards[state] + gamma * V[next_state])\n",
    "                action_values.append(value)\n",
    "            new_V[state] = max(action_values)\n",
    "            delta = max(delta, abs(new_V[state] - V[state]))\n",
    "        V = new_V\n",
    "        if delta < theta:\n",
    "            break\n",
    "    return V\n",
    "\n",
    "optimal_values = value_iteration(states, actions, rewards, discount_factor)\n",
    "print(\"Optimal Values:\")\n",
    "for i in range(3):\n",
    "    print([optimal_values[(i, j)] for j in range(3)])"
   ]
  },
  {
   "cell_type": "markdown",
   "metadata": {},
   "source": [
    "#### Explaination"
   ]
  },
  {
   "cell_type": "code",
   "execution_count": 25,
   "metadata": {},
   "outputs": [
    {
     "name": "stdout",
     "output_type": "stream",
     "text": [
      "0.1\n",
      "0.15000000000000002\n",
      "0.17500000000000002\n",
      "0.1875\n"
     ]
    }
   ],
   "source": [
    "x = 0\n",
    "for i in range(4):\n",
    "    x = 0.1+(0.5*x)\n",
    "    print(x)"
   ]
  },
  {
   "cell_type": "markdown",
   "metadata": {},
   "source": [
    "#### Visuvalisation"
   ]
  },
  {
   "cell_type": "code",
   "execution_count": 29,
   "metadata": {},
   "outputs": [
    {
     "data": {
      "image/png": "[encoded data removed]",
      "text/plain": [
       "<Figure size 600x600 with 1 Axes>"
      ]
     },
     "metadata": {},
     "output_type": "display_data"
    }
   ],
   "source": [
    "import matplotlib.pyplot as plt\n",
    "import numpy as np\n",
    "\n",
    "# Grid values\n",
    "grid_values = np.array([\n",
    "    [-0.1875, -0.17500000000000002, -0.15000000000000002],\n",
    "    [-0.17500000000000002, -0.15000000000000002, -0.1],\n",
    "    [-0.15000000000000002, -0.1, 0],\n",
    "])\n",
    "\n",
    "# Plot the grid\n",
    "plt.figure(figsize=(6, 6))\n",
    "for i in range(3):\n",
    "    for j in range(3):\n",
    "        plt.text(j, 2 - i, f\"{grid_values[i, j]:.4f}\",\n",
    "                 ha=\"center\", va=\"center\", fontsize=14,\n",
    "                 bbox=dict(facecolor=\"white\", edgecolor=\"black\", boxstyle=\"round\"))\n",
    "plt.grid(True, which='both', color='black', linestyle='-', linewidth=1)\n",
    "plt.xticks(range(3), [])\n",
    "plt.yticks(range(3), [])\n",
    "plt.title(\"Optimal Value Function for Grid World\", fontsize=16)\n",
    "plt.show()\n"
   ]
  },
  {
   "cell_type": "code",
   "execution_count": 27,
   "metadata": {},
   "outputs": [
    {
     "name": "stdout",
     "output_type": "stream",
     "text": [
      "Optimal Policy:\n",
      "['down', 'down', 'down']\n",
      "['down', 'down', 'down']\n",
      "['right', 'right', None]\n",
      "\n",
      "Optimal Values:\n",
      "[-0.1875, -0.17500000000000002, -0.15000000000000002]\n",
      "[-0.17500000000000002, -0.15000000000000002, -0.1]\n",
      "[-0.15000000000000002, -0.1, 0]\n"
     ]
    }
   ],
   "source": [
    "# Policy Iteration Implementation\n",
    "import numpy as np\n",
    "\n",
    "# Define the MDP components\n",
    "states = [(i, j) for i in range(3) for j in range(3)]\n",
    "actions = [\"up\", \"down\", \"left\", \"right\"]\n",
    "discount_factor = 0.5\n",
    "\n",
    "# Rewards\n",
    "rewards = {s: -0.1 for s in states}\n",
    "rewards[(2, 2)] = 1\n",
    "\n",
    "# Transition probabilities\n",
    "def transition_probabilities(state, action):\n",
    "    i, j = state\n",
    "    if state == (2, 2):\n",
    "        return [(state, 1.0)]\n",
    "\n",
    "    if action == \"up\":\n",
    "        next_state = (max(i - 1, 0), j)\n",
    "    elif action == \"down\":\n",
    "        next_state = (min(i + 1, 2), j)\n",
    "    elif action == \"left\":\n",
    "        next_state = (i, max(j - 1, 0))\n",
    "    elif action == \"right\":\n",
    "        next_state = (i, min(j + 1, 2))\n",
    "\n",
    "    return [(next_state, 1.0)]\n",
    "\n",
    "# Policy Iteration\n",
    "def policy_iteration(states, actions, rewards, gamma, theta=1e-6):\n",
    "    # Step 1: Initialize a random policy\n",
    "    policy = {s: np.random.choice(actions) for s in states if s != (2, 2)}\n",
    "    policy[(2, 2)] = None  # No action needed for the terminal state\n",
    "\n",
    "    # Initialize value function\n",
    "    V = {s: 0 for s in states}\n",
    "\n",
    "    while True:\n",
    "        # Step 2: Policy Evaluation\n",
    "        while True:\n",
    "            delta = 0\n",
    "            new_V = V.copy()\n",
    "            for state in states:\n",
    "                if state == (2, 2):\n",
    "                    continue\n",
    "\n",
    "                action = policy[state]\n",
    "                value = 0\n",
    "                for next_state, prob in transition_probabilities(state, action):\n",
    "                    value += prob * (rewards[state] + gamma * V[next_state])\n",
    "\n",
    "                new_V[state] = value\n",
    "                delta = max(delta, abs(new_V[state] - V[state]))\n",
    "\n",
    "            V = new_V\n",
    "            if delta < theta:\n",
    "                break\n",
    "\n",
    "        # Step 3: Policy Improvement\n",
    "        policy_stable = True\n",
    "        for state in states:\n",
    "            if state == (2, 2):\n",
    "                continue\n",
    "\n",
    "            old_action = policy[state]\n",
    "            action_values = {}\n",
    "            for action in actions:\n",
    "                value = 0\n",
    "                for next_state, prob in transition_probabilities(state, action):\n",
    "                    value += prob * (rewards[state] + gamma * V[next_state])\n",
    "                action_values[action] = value\n",
    "\n",
    "            # Choose the best action\n",
    "            best_action = max(action_values, key=action_values.get)\n",
    "            policy[state] = best_action\n",
    "\n",
    "            if old_action != best_action:\n",
    "                policy_stable = False\n",
    "\n",
    "        if policy_stable:\n",
    "            break\n",
    "\n",
    "    return policy, V\n",
    "\n",
    "optimal_policy, optimal_values = policy_iteration(states, actions, rewards, discount_factor)\n",
    "\n",
    "# Print results\n",
    "print(\"Optimal Policy:\")\n",
    "for i in range(3):\n",
    "    print([optimal_policy.get((i, j), None) for j in range(3)])\n",
    "\n",
    "print(\"\\nOptimal Values:\")\n",
    "for i in range(3):\n",
    "    print([optimal_values[(i, j)] for j in range(3)])\n"
   ]
  },
  {
   "cell_type": "markdown",
   "metadata": {},
   "source": [
    "## Logical Agent & First Order Logic"
   ]
  },
  {
   "cell_type": "code",
   "execution_count": 35,
   "metadata": {},
   "outputs": [
    {
     "name": "stdout",
     "output_type": "stream",
     "text": [
      "A & B\n"
     ]
    }
   ],
   "source": [
    "from sympy.logic.boolalg import And, Or, Not\n",
    "from sympy.abc import A, B\n",
    "\n",
    "# Propositional Logic Example\n",
    "expr = And(A, Or(Not(A), B))\n",
    "print(expr.simplify())"
   ]
  },
  {
   "cell_type": "markdown",
   "metadata": {},
   "source": [
    "## Automatic Language (AL)"
   ]
  },
  {
   "cell_type": "markdown",
   "metadata": {},
   "source": [
    "### Text Preprocessing"
   ]
  },
  {
   "cell_type": "code",
   "execution_count": 1,
   "metadata": {},
   "outputs": [
    {
     "name": "stdout",
     "output_type": "stream",
     "text": [
      "Tokens: ['Natural', 'Language', 'Processing', 'enables', 'machines', 'to', 'understand', 'human', 'language', '.']\n",
      "Filtered Tokens: ['Natural', 'Language', 'Processing', 'enables', 'machines', 'understand', 'human', 'language', '.']\n"
     ]
    }
   ],
   "source": [
    "import nltk\n",
    "from nltk.tokenize import word_tokenize\n",
    "from nltk.corpus import stopwords\n",
    "\n",
    "# Download resources\n",
    "# nltk.download()\n",
    "# nltk.download('punkt')\n",
    "# nltk.download('stopwords')\n",
    "\n",
    "# Sample text\n",
    "text = \"Natural Language Processing enables machines to understand human language.\"\n",
    "\n",
    "# Tokenization\n",
    "tokens = word_tokenize(text)\n",
    "print(\"Tokens:\", tokens)\n",
    "\n",
    "# Stopword Removal\n",
    "stop_words = set(stopwords.words('english'))\n",
    "filtered_tokens = [word for word in tokens if word.lower() not in stop_words]\n",
    "print(\"Filtered Tokens:\", filtered_tokens)"
   ]
  },
  {
   "cell_type": "markdown",
   "metadata": {},
   "source": [
    "### Sentiment Analysis"
   ]
  },
  {
   "cell_type": "code",
   "execution_count": 2,
   "metadata": {},
   "outputs": [
    {
     "name": "stdout",
     "output_type": "stream",
     "text": [
      "Polarity: 0.5, Subjectivity: 0.75\n"
     ]
    }
   ],
   "source": [
    "from textblob import TextBlob\n",
    "\n",
    "# Sample text\n",
    "text = \"The product is fantastic! I love it.\"\n",
    "blob = TextBlob(text)\n",
    "\n",
    "# Sentiment Analysis\n",
    "sentiment = blob.sentiment\n",
    "print(f\"Polarity: {sentiment.polarity}, Subjectivity: {sentiment.subjectivity}\")"
   ]
  }
 ],
 "metadata": {
  "kernelspec": {
   "display_name": "venv",
   "language": "python",
   "name": "python3"
  },
  "language_info": {
   "codemirror_mode": {
    "name": "ipython",
    "version": 3
   },
   "file_extension": ".py",
   "mimetype": "text/x-python",
   "name": "python",
   "nbconvert_exporter": "python",
   "pygments_lexer": "ipython3",
   "version": "3.12.0"
  }
 },
 "nbformat": 4,
 "nbformat_minor": 2
}
